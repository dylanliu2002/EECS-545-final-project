{
 "cells": [
  {
   "cell_type": "code",
   "execution_count": null,
   "metadata": {},
   "outputs": [],
   "source": [
    "########################################\n",
    "# Sample Notebook to see if Algo works #\n",
    "########################################"
   ]
  },
  {
   "cell_type": "code",
   "execution_count": 2,
   "metadata": {},
   "outputs": [],
   "source": [
    "from algo.cql import hello, CQLSAC\n",
    "import pandas as pd\n",
    "import numpy as np\n",
    "import data_preprocessing as dp\n",
    "import mdp\n",
    "import Replay_Buffer\n",
    "import torch as T\n",
    "import numpy as np\n",
    "import random"
   ]
  },
  {
   "cell_type": "code",
   "execution_count": 3,
   "metadata": {},
   "outputs": [
    {
     "name": "stdout",
     "output_type": "stream",
     "text": [
      "Hello from cql.py!\n"
     ]
    }
   ],
   "source": [
    "hello()"
   ]
  },
  {
   "cell_type": "code",
   "execution_count": 4,
   "metadata": {},
   "outputs": [],
   "source": [
    "# Parameters to be passed\n",
    "random.seed(42)\n",
    "T.manual_seed(42)\n",
    "np.random.seed(42)\n",
    "state_dim = 28\n",
    "action_dim = 2\n",
    "max_action = 20\n",
    "device = T.device('cuda:0' if T.cuda.is_available() else 'cpu')"
   ]
  },
  {
   "cell_type": "code",
   "execution_count": 6,
   "metadata": {},
   "outputs": [
    {
     "name": "stderr",
     "output_type": "stream",
     "text": [
      "/Library/Frameworks/Python.framework/Versions/3.11/lib/python3.11/site-packages/transformers/utils/generic.py:441: UserWarning: torch.utils._pytree._register_pytree_node is deprecated. Please use torch.utils._pytree.register_pytree_node instead.\n",
      "  _torch_pytree._register_pytree_node(\n"
     ]
    }
   ],
   "source": [
    "# Calling SAC-CQL\n",
    "policy = CQLSAC(state_dim, action_dim, device)"
   ]
  },
  {
   "cell_type": "code",
   "execution_count": 7,
   "metadata": {},
   "outputs": [],
   "source": [
    "# Replay Buffer to be used to train\n",
    "replay_buffer = Replay_Buffer.ReplayBuffer(state_dim, action_dim, device, 1000000)\n",
    "replay_buffer.load(f\"buffers/DR_USA_Roundabout_FT\")\n",
    "train_timesteps = 10000"
   ]
  },
  {
   "cell_type": "code",
   "execution_count": 12,
   "metadata": {},
   "outputs": [],
   "source": [
    "actor_loss = []\n",
    "critic_loss = []\n",
    "q_val =[]\n",
    "training_iters = 0"
   ]
  },
  {
   "cell_type": "code",
   "execution_count": 17,
   "metadata": {},
   "outputs": [],
   "source": [
    "for epoch in range(2):\n",
    "    for itr in range(10):\n",
    "        info = policy.train(replay_buffer, batch_size = 32)        \n",
    "        actor_loss.append(info['actor_loss'])\n",
    "        critic_loss.append(info['critic_loss'])\n",
    "        q_val.append(info['q_val'])\n",
    "        training_iters += 1"
   ]
  },
  {
   "cell_type": "code",
   "execution_count": 18,
   "metadata": {},
   "outputs": [
    {
     "data": {
      "text/plain": [
       "[33.10469055175781,\n",
       " 33.2269401550293,\n",
       " 33.44395446777344,\n",
       " 33.38080978393555,\n",
       " 34.21381759643555,\n",
       " 34.07047653198242,\n",
       " 33.85411071777344,\n",
       " 33.88590621948242,\n",
       " 33.47071075439453,\n",
       " 34.032169342041016,\n",
       " 34.01640319824219,\n",
       " 33.53648376464844,\n",
       " 33.568145751953125,\n",
       " 33.242698669433594,\n",
       " 34.34807586669922,\n",
       " 34.660892486572266,\n",
       " 34.309776306152344,\n",
       " 34.917728424072266,\n",
       " 35.15626907348633,\n",
       " 34.75169372558594,\n",
       " 33.440582275390625,\n",
       " 33.77735137939453]"
      ]
     },
     "execution_count": 18,
     "metadata": {},
     "output_type": "execute_result"
    }
   ],
   "source": [
    "actor_loss"
   ]
  },
  {
   "cell_type": "code",
   "execution_count": 20,
   "metadata": {},
   "outputs": [
    {
     "data": {
      "text/plain": [
       "[-1.949752688407898,\n",
       " -1.8472175598144531,\n",
       " -2.0819034576416016,\n",
       " -1.9668264389038086,\n",
       " -2.1836137771606445,\n",
       " -2.0490400791168213,\n",
       " -1.7723442316055298,\n",
       " -1.804879903793335,\n",
       " -2.0983517169952393,\n",
       " -2.270014762878418,\n",
       " -2.1477150917053223,\n",
       " -1.7413301467895508,\n",
       " -1.6268008947372437,\n",
       " -1.8815152645111084,\n",
       " -2.4922971725463867,\n",
       " -2.606778621673584,\n",
       " -2.423917293548584,\n",
       " -1.946919322013855,\n",
       " -1.801721453666687,\n",
       " -2.0430238246917725,\n",
       " -1.8972594738006592,\n",
       " -2.1101889610290527]"
      ]
     },
     "execution_count": 20,
     "metadata": {},
     "output_type": "execute_result"
    }
   ],
   "source": [
    "q_val"
   ]
  },
  {
   "cell_type": "code",
   "execution_count": 21,
   "metadata": {},
   "outputs": [
    {
     "data": {
      "text/plain": [
       "[3.7133660316467285,\n",
       " 3.6569952964782715,\n",
       " 3.6934120655059814,\n",
       " 3.626094102859497,\n",
       " 3.718674659729004,\n",
       " 3.6472275257110596,\n",
       " 3.724838972091675,\n",
       " 3.566743850708008,\n",
       " 3.614351511001587,\n",
       " 3.5857677459716797,\n",
       " 3.6205570697784424,\n",
       " 3.734867572784424,\n",
       " 3.7939350605010986,\n",
       " 3.801964521408081,\n",
       " 3.7264585494995117,\n",
       " 3.6610188484191895,\n",
       " 3.7867372035980225,\n",
       " 3.599156618118286,\n",
       " 3.5692317485809326,\n",
       " 3.8651230335235596,\n",
       " 3.553882122039795,\n",
       " 3.6693646907806396]"
      ]
     },
     "execution_count": 21,
     "metadata": {},
     "output_type": "execute_result"
    }
   ],
   "source": [
    "critic_loss"
   ]
  },
  {
   "cell_type": "code",
   "execution_count": null,
   "metadata": {},
   "outputs": [],
   "source": []
  }
 ],
 "metadata": {
  "kernelspec": {
   "display_name": "Python 3",
   "language": "python",
   "name": "python3"
  },
  "language_info": {
   "codemirror_mode": {
    "name": "ipython",
    "version": 3
   },
   "file_extension": ".py",
   "mimetype": "text/x-python",
   "name": "python",
   "nbconvert_exporter": "python",
   "pygments_lexer": "ipython3",
   "version": "3.11.5"
  }
 },
 "nbformat": 4,
 "nbformat_minor": 2
}
